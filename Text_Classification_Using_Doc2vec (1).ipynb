{
  "cells": [
    {
      "cell_type": "markdown",
      "metadata": {
        "id": "mWKCuMaRdq9M"
      },
      "source": [
        "## Multi-Class Text Classification for E-commerce products using Doc2Vec \n",
        "\n",
        "Multi-Class Text Classification to E-commerce products based on their description and categories by using Doc2Vec vectors.\n",
        "\n",
        "Doc2vec is a method of vector representation of entire documents, not individual words. By document, you can mean a single sentence, paragraph, or an entire book. Doc2Vec architecture has two algorithms. One of the them is called Distributed Bag of Words (DBOW). The second algorithm is “distributed memory” (DM).\n",
        "\n",
        "In this project, we used Doc2Vec to get the document vectors and we used as input to the classification model. "
      ]
    },
    {
      "cell_type": "markdown",
      "metadata": {
        "id": "kF94RN3kdq9j"
      },
      "source": [
        "### Importing packages and loading data"
      ]
    },
    {
      "cell_type": "code",
      "execution_count": 85,
      "metadata": {
        "id": "Vw7kKEPCdq9l"
      },
      "outputs": [],
      "source": [
        "import pandas as pd\n",
        "import numpy as np\n",
        "import matplotlib.pyplot as plt\n",
        "%matplotlib inline\n",
        "\n",
        "import re\n",
        "from time import time\n",
        "import nltk\n",
        "from nltk.corpus import stopwords\n",
        "from nltk.stem.wordnet import WordNetLemmatizer\n",
        "from nltk.tokenize import sent_tokenize, word_tokenize\n",
        "\n",
        "from gensim.models.doc2vec import Doc2Vec, TaggedDocument\n",
        "from sklearn.model_selection import train_test_split\n",
        "\n",
        "from sklearn.linear_model import LogisticRegression\n",
        "from sklearn.svm import LinearSVC\n",
        "from sklearn.metrics import confusion_matrix, accuracy_score, classification_report, f1_score"
      ]
    },
    {
      "cell_type": "code",
      "execution_count": 86,
      "metadata": {
        "colab": {
          "base_uri": "https://localhost:8080/",
          "height": 206
        },
        "id": "WK7HRKaYdq9n",
        "outputId": "3ec29c49-e794-4260-bcab-1d8d794ca85e"
      },
      "outputs": [
        {
          "output_type": "execute_result",
          "data": {
            "text/plain": [
              "       Label                                               Text\n",
              "0  Household  Paper Plane Design Framed Wall Hanging Motivat...\n",
              "1  Household  SAF 'Floral' Framed Painting (Wood, 30 inch x ...\n",
              "2  Household  SAF 'UV Textured Modern Art Print Framed' Pain...\n",
              "3  Household  SAF Flower Print Framed Painting (Synthetic, 1...\n",
              "4  Household  Incredible Gifts India Wooden Happy Birthday U..."
            ],
            "text/html": [
              "\n",
              "  <div id=\"df-f8baf48e-b3d5-40a9-8a4b-825f95f40d6f\">\n",
              "    <div class=\"colab-df-container\">\n",
              "      <div>\n",
              "<style scoped>\n",
              "    .dataframe tbody tr th:only-of-type {\n",
              "        vertical-align: middle;\n",
              "    }\n",
              "\n",
              "    .dataframe tbody tr th {\n",
              "        vertical-align: top;\n",
              "    }\n",
              "\n",
              "    .dataframe thead th {\n",
              "        text-align: right;\n",
              "    }\n",
              "</style>\n",
              "<table border=\"1\" class=\"dataframe\">\n",
              "  <thead>\n",
              "    <tr style=\"text-align: right;\">\n",
              "      <th></th>\n",
              "      <th>Label</th>\n",
              "      <th>Text</th>\n",
              "    </tr>\n",
              "  </thead>\n",
              "  <tbody>\n",
              "    <tr>\n",
              "      <th>0</th>\n",
              "      <td>Household</td>\n",
              "      <td>Paper Plane Design Framed Wall Hanging Motivat...</td>\n",
              "    </tr>\n",
              "    <tr>\n",
              "      <th>1</th>\n",
              "      <td>Household</td>\n",
              "      <td>SAF 'Floral' Framed Painting (Wood, 30 inch x ...</td>\n",
              "    </tr>\n",
              "    <tr>\n",
              "      <th>2</th>\n",
              "      <td>Household</td>\n",
              "      <td>SAF 'UV Textured Modern Art Print Framed' Pain...</td>\n",
              "    </tr>\n",
              "    <tr>\n",
              "      <th>3</th>\n",
              "      <td>Household</td>\n",
              "      <td>SAF Flower Print Framed Painting (Synthetic, 1...</td>\n",
              "    </tr>\n",
              "    <tr>\n",
              "      <th>4</th>\n",
              "      <td>Household</td>\n",
              "      <td>Incredible Gifts India Wooden Happy Birthday U...</td>\n",
              "    </tr>\n",
              "  </tbody>\n",
              "</table>\n",
              "</div>\n",
              "      <button class=\"colab-df-convert\" onclick=\"convertToInteractive('df-f8baf48e-b3d5-40a9-8a4b-825f95f40d6f')\"\n",
              "              title=\"Convert this dataframe to an interactive table.\"\n",
              "              style=\"display:none;\">\n",
              "        \n",
              "  <svg xmlns=\"http://www.w3.org/2000/svg\" height=\"24px\"viewBox=\"0 0 24 24\"\n",
              "       width=\"24px\">\n",
              "    <path d=\"M0 0h24v24H0V0z\" fill=\"none\"/>\n",
              "    <path d=\"M18.56 5.44l.94 2.06.94-2.06 2.06-.94-2.06-.94-.94-2.06-.94 2.06-2.06.94zm-11 1L8.5 8.5l.94-2.06 2.06-.94-2.06-.94L8.5 2.5l-.94 2.06-2.06.94zm10 10l.94 2.06.94-2.06 2.06-.94-2.06-.94-.94-2.06-.94 2.06-2.06.94z\"/><path d=\"M17.41 7.96l-1.37-1.37c-.4-.4-.92-.59-1.43-.59-.52 0-1.04.2-1.43.59L10.3 9.45l-7.72 7.72c-.78.78-.78 2.05 0 2.83L4 21.41c.39.39.9.59 1.41.59.51 0 1.02-.2 1.41-.59l7.78-7.78 2.81-2.81c.8-.78.8-2.07 0-2.86zM5.41 20L4 18.59l7.72-7.72 1.47 1.35L5.41 20z\"/>\n",
              "  </svg>\n",
              "      </button>\n",
              "      \n",
              "  <style>\n",
              "    .colab-df-container {\n",
              "      display:flex;\n",
              "      flex-wrap:wrap;\n",
              "      gap: 12px;\n",
              "    }\n",
              "\n",
              "    .colab-df-convert {\n",
              "      background-color: #E8F0FE;\n",
              "      border: none;\n",
              "      border-radius: 50%;\n",
              "      cursor: pointer;\n",
              "      display: none;\n",
              "      fill: #1967D2;\n",
              "      height: 32px;\n",
              "      padding: 0 0 0 0;\n",
              "      width: 32px;\n",
              "    }\n",
              "\n",
              "    .colab-df-convert:hover {\n",
              "      background-color: #E2EBFA;\n",
              "      box-shadow: 0px 1px 2px rgba(60, 64, 67, 0.3), 0px 1px 3px 1px rgba(60, 64, 67, 0.15);\n",
              "      fill: #174EA6;\n",
              "    }\n",
              "\n",
              "    [theme=dark] .colab-df-convert {\n",
              "      background-color: #3B4455;\n",
              "      fill: #D2E3FC;\n",
              "    }\n",
              "\n",
              "    [theme=dark] .colab-df-convert:hover {\n",
              "      background-color: #434B5C;\n",
              "      box-shadow: 0px 1px 3px 1px rgba(0, 0, 0, 0.15);\n",
              "      filter: drop-shadow(0px 1px 2px rgba(0, 0, 0, 0.3));\n",
              "      fill: #FFFFFF;\n",
              "    }\n",
              "  </style>\n",
              "\n",
              "      <script>\n",
              "        const buttonEl =\n",
              "          document.querySelector('#df-f8baf48e-b3d5-40a9-8a4b-825f95f40d6f button.colab-df-convert');\n",
              "        buttonEl.style.display =\n",
              "          google.colab.kernel.accessAllowed ? 'block' : 'none';\n",
              "\n",
              "        async function convertToInteractive(key) {\n",
              "          const element = document.querySelector('#df-f8baf48e-b3d5-40a9-8a4b-825f95f40d6f');\n",
              "          const dataTable =\n",
              "            await google.colab.kernel.invokeFunction('convertToInteractive',\n",
              "                                                     [key], {});\n",
              "          if (!dataTable) return;\n",
              "\n",
              "          const docLinkHtml = 'Like what you see? Visit the ' +\n",
              "            '<a target=\"_blank\" href=https://colab.research.google.com/notebooks/data_table.ipynb>data table notebook</a>'\n",
              "            + ' to learn more about interactive tables.';\n",
              "          element.innerHTML = '';\n",
              "          dataTable['output_type'] = 'display_data';\n",
              "          await google.colab.output.renderOutput(dataTable, element);\n",
              "          const docLink = document.createElement('div');\n",
              "          docLink.innerHTML = docLinkHtml;\n",
              "          element.appendChild(docLink);\n",
              "        }\n",
              "      </script>\n",
              "    </div>\n",
              "  </div>\n",
              "  "
            ]
          },
          "metadata": {},
          "execution_count": 86
        }
      ],
      "source": [
        "df = pd.read_csv('ecommerceDataset_1.csv')\n",
        "df.head()"
      ]
    },
    {
      "cell_type": "code",
      "execution_count": 87,
      "metadata": {
        "colab": {
          "base_uri": "https://localhost:8080/"
        },
        "id": "FBvqfixidq9q",
        "outputId": "a55c253f-9af2-44d5-c015-887696785a90"
      },
      "outputs": [
        {
          "output_type": "execute_result",
          "data": {
            "text/plain": [
              "(50425, 2)"
            ]
          },
          "metadata": {},
          "execution_count": 87
        }
      ],
      "source": [
        "df.shape"
      ]
    },
    {
      "cell_type": "code",
      "execution_count": 88,
      "metadata": {
        "colab": {
          "base_uri": "https://localhost:8080/"
        },
        "id": "EXXU8AnDdq9r",
        "outputId": "363a8b2a-e068-43e5-b45a-007af5039fbb"
      },
      "outputs": [
        {
          "output_type": "stream",
          "name": "stdout",
          "text": [
            "5978795\n"
          ]
        }
      ],
      "source": [
        "print(df['Text'].astype(\"str\").apply(lambda x: len(x.split(' '))).sum())"
      ]
    },
    {
      "cell_type": "markdown",
      "metadata": {
        "id": "jTOCcosadq9s"
      },
      "source": [
        "We have 5978795 words in the data."
      ]
    },
    {
      "cell_type": "markdown",
      "metadata": {
        "id": "cX35iVvFdq9s"
      },
      "source": [
        "### Text data clean"
      ]
    },
    {
      "cell_type": "code",
      "execution_count": 89,
      "metadata": {
        "colab": {
          "base_uri": "https://localhost:8080/"
        },
        "id": "dYIMex6jdq9t",
        "outputId": "c93f4068-8763-431c-ec30-f49dea092876"
      },
      "outputs": [
        {
          "output_type": "execute_result",
          "data": {
            "text/plain": [
              "Label    0\n",
              "Text     4\n",
              "dtype: int64"
            ]
          },
          "metadata": {},
          "execution_count": 89
        }
      ],
      "source": [
        "#checking missing values\n",
        "df.isnull().sum()"
      ]
    },
    {
      "cell_type": "code",
      "execution_count": 90,
      "metadata": {
        "id": "zc3Nq_lydq9u"
      },
      "outputs": [],
      "source": [
        "#changing data type\n",
        "df['Text'] = df['Text'].astype(str)"
      ]
    },
    {
      "cell_type": "code",
      "execution_count": 91,
      "metadata": {
        "colab": {
          "base_uri": "https://localhost:8080/"
        },
        "id": "-p2u_Nzhdq9v",
        "outputId": "a05f97c0-a48e-4952-d515-78708a1bc29d"
      },
      "outputs": [
        {
          "output_type": "execute_result",
          "data": {
            "text/plain": [
              "Household                 19313\n",
              "Books                     11820\n",
              "Electronics               10621\n",
              "Clothing & Accessories     8671\n",
              "Name: Label, dtype: int64"
            ]
          },
          "metadata": {},
          "execution_count": 91
        }
      ],
      "source": [
        "df.Label.value_counts()"
      ]
    },
    {
      "cell_type": "markdown",
      "metadata": {
        "id": "OD5cxXNudq9w"
      },
      "source": [
        "In the next step we remove non-alphabetic characters, the stopwords and lemmatizing for each line of text:"
      ]
    },
    {
      "cell_type": "code",
      "execution_count": 92,
      "metadata": {
        "id": "hLUgJkdFdq9x"
      },
      "outputs": [],
      "source": [
        "def cleanText(words):\n",
        "    \"\"\"The function to clean text\"\"\"\n",
        "    words = re.sub(\"[^a-zA-Z]\",\" \",words)\n",
        "    text = words.lower().split()\n",
        "    return \" \".join(text)\n",
        "\n",
        "df['Text'] = df['Text'].apply(cleanText)"
      ]
    },
    {
      "cell_type": "code",
      "source": [
        "import nltk\n",
        "nltk.download('stopwords')\n",
        "nltk.download('wordnet')\n",
        "nltk.download('omw-1.4')\n",
        "nltk.download('punkt')"
      ],
      "metadata": {
        "colab": {
          "base_uri": "https://localhost:8080/"
        },
        "id": "9juWJypyo20B",
        "outputId": "43baa8b5-dff4-4937-d870-c9a6578349f6"
      },
      "execution_count": 93,
      "outputs": [
        {
          "output_type": "stream",
          "name": "stderr",
          "text": [
            "[nltk_data] Downloading package stopwords to /root/nltk_data...\n",
            "[nltk_data]   Package stopwords is already up-to-date!\n",
            "[nltk_data] Downloading package wordnet to /root/nltk_data...\n",
            "[nltk_data]   Package wordnet is already up-to-date!\n",
            "[nltk_data] Downloading package omw-1.4 to /root/nltk_data...\n",
            "[nltk_data]   Package omw-1.4 is already up-to-date!\n",
            "[nltk_data] Downloading package punkt to /root/nltk_data...\n",
            "[nltk_data]   Package punkt is already up-to-date!\n"
          ]
        },
        {
          "output_type": "execute_result",
          "data": {
            "text/plain": [
              "True"
            ]
          },
          "metadata": {},
          "execution_count": 93
        }
      ]
    },
    {
      "cell_type": "code",
      "execution_count": 94,
      "metadata": {
        "id": "q2NxVMG9dq9y"
      },
      "outputs": [],
      "source": [
        "stop = stopwords.words('english')\n",
        "lem = WordNetLemmatizer()\n",
        "\n",
        "\n",
        "def remove_stopwords(text):\n",
        "    \"\"\"The function to removing stopwords\"\"\"\n",
        "    text = [word.lower() for word in text.split() if word.lower() not in stop]\n",
        "    return \" \".join(text)\n",
        "\n",
        "def word_lem(text):\n",
        "    \"\"\"The function to apply lemmatizing\"\"\"\n",
        "    lem_text = [lem.lemmatize(word) for word in text.split()]\n",
        "    return \" \".join(lem_text)"
      ]
    },
    {
      "cell_type": "code",
      "execution_count": 95,
      "metadata": {
        "id": "7rkA4uXEdq9z"
      },
      "outputs": [],
      "source": [
        "df['Text'] = df['Text'].apply(remove_stopwords)\n",
        "df['Text'] = df['Text'].apply(word_lem)"
      ]
    },
    {
      "cell_type": "code",
      "execution_count": 96,
      "metadata": {
        "colab": {
          "base_uri": "https://localhost:8080/",
          "height": 206
        },
        "id": "DA-1DgySdq9z",
        "outputId": "28a0f075-71a3-4437-da62-c3b09da27656"
      },
      "outputs": [
        {
          "output_type": "execute_result",
          "data": {
            "text/plain": [
              "       Label                                               Text\n",
              "0  Household  paper plane design framed wall hanging motivat...\n",
              "1  Household  saf floral framed painting wood inch x inch sp...\n",
              "2  Household  saf uv textured modern art print framed painti...\n",
              "3  Household  saf flower print framed painting synthetic inc...\n",
              "4  Household  incredible gift india wooden happy birthday un..."
            ],
            "text/html": [
              "\n",
              "  <div id=\"df-3719007e-6e46-418f-a52c-2066d94d4a2f\">\n",
              "    <div class=\"colab-df-container\">\n",
              "      <div>\n",
              "<style scoped>\n",
              "    .dataframe tbody tr th:only-of-type {\n",
              "        vertical-align: middle;\n",
              "    }\n",
              "\n",
              "    .dataframe tbody tr th {\n",
              "        vertical-align: top;\n",
              "    }\n",
              "\n",
              "    .dataframe thead th {\n",
              "        text-align: right;\n",
              "    }\n",
              "</style>\n",
              "<table border=\"1\" class=\"dataframe\">\n",
              "  <thead>\n",
              "    <tr style=\"text-align: right;\">\n",
              "      <th></th>\n",
              "      <th>Label</th>\n",
              "      <th>Text</th>\n",
              "    </tr>\n",
              "  </thead>\n",
              "  <tbody>\n",
              "    <tr>\n",
              "      <th>0</th>\n",
              "      <td>Household</td>\n",
              "      <td>paper plane design framed wall hanging motivat...</td>\n",
              "    </tr>\n",
              "    <tr>\n",
              "      <th>1</th>\n",
              "      <td>Household</td>\n",
              "      <td>saf floral framed painting wood inch x inch sp...</td>\n",
              "    </tr>\n",
              "    <tr>\n",
              "      <th>2</th>\n",
              "      <td>Household</td>\n",
              "      <td>saf uv textured modern art print framed painti...</td>\n",
              "    </tr>\n",
              "    <tr>\n",
              "      <th>3</th>\n",
              "      <td>Household</td>\n",
              "      <td>saf flower print framed painting synthetic inc...</td>\n",
              "    </tr>\n",
              "    <tr>\n",
              "      <th>4</th>\n",
              "      <td>Household</td>\n",
              "      <td>incredible gift india wooden happy birthday un...</td>\n",
              "    </tr>\n",
              "  </tbody>\n",
              "</table>\n",
              "</div>\n",
              "      <button class=\"colab-df-convert\" onclick=\"convertToInteractive('df-3719007e-6e46-418f-a52c-2066d94d4a2f')\"\n",
              "              title=\"Convert this dataframe to an interactive table.\"\n",
              "              style=\"display:none;\">\n",
              "        \n",
              "  <svg xmlns=\"http://www.w3.org/2000/svg\" height=\"24px\"viewBox=\"0 0 24 24\"\n",
              "       width=\"24px\">\n",
              "    <path d=\"M0 0h24v24H0V0z\" fill=\"none\"/>\n",
              "    <path d=\"M18.56 5.44l.94 2.06.94-2.06 2.06-.94-2.06-.94-.94-2.06-.94 2.06-2.06.94zm-11 1L8.5 8.5l.94-2.06 2.06-.94-2.06-.94L8.5 2.5l-.94 2.06-2.06.94zm10 10l.94 2.06.94-2.06 2.06-.94-2.06-.94-.94-2.06-.94 2.06-2.06.94z\"/><path d=\"M17.41 7.96l-1.37-1.37c-.4-.4-.92-.59-1.43-.59-.52 0-1.04.2-1.43.59L10.3 9.45l-7.72 7.72c-.78.78-.78 2.05 0 2.83L4 21.41c.39.39.9.59 1.41.59.51 0 1.02-.2 1.41-.59l7.78-7.78 2.81-2.81c.8-.78.8-2.07 0-2.86zM5.41 20L4 18.59l7.72-7.72 1.47 1.35L5.41 20z\"/>\n",
              "  </svg>\n",
              "      </button>\n",
              "      \n",
              "  <style>\n",
              "    .colab-df-container {\n",
              "      display:flex;\n",
              "      flex-wrap:wrap;\n",
              "      gap: 12px;\n",
              "    }\n",
              "\n",
              "    .colab-df-convert {\n",
              "      background-color: #E8F0FE;\n",
              "      border: none;\n",
              "      border-radius: 50%;\n",
              "      cursor: pointer;\n",
              "      display: none;\n",
              "      fill: #1967D2;\n",
              "      height: 32px;\n",
              "      padding: 0 0 0 0;\n",
              "      width: 32px;\n",
              "    }\n",
              "\n",
              "    .colab-df-convert:hover {\n",
              "      background-color: #E2EBFA;\n",
              "      box-shadow: 0px 1px 2px rgba(60, 64, 67, 0.3), 0px 1px 3px 1px rgba(60, 64, 67, 0.15);\n",
              "      fill: #174EA6;\n",
              "    }\n",
              "\n",
              "    [theme=dark] .colab-df-convert {\n",
              "      background-color: #3B4455;\n",
              "      fill: #D2E3FC;\n",
              "    }\n",
              "\n",
              "    [theme=dark] .colab-df-convert:hover {\n",
              "      background-color: #434B5C;\n",
              "      box-shadow: 0px 1px 3px 1px rgba(0, 0, 0, 0.15);\n",
              "      filter: drop-shadow(0px 1px 2px rgba(0, 0, 0, 0.3));\n",
              "      fill: #FFFFFF;\n",
              "    }\n",
              "  </style>\n",
              "\n",
              "      <script>\n",
              "        const buttonEl =\n",
              "          document.querySelector('#df-3719007e-6e46-418f-a52c-2066d94d4a2f button.colab-df-convert');\n",
              "        buttonEl.style.display =\n",
              "          google.colab.kernel.accessAllowed ? 'block' : 'none';\n",
              "\n",
              "        async function convertToInteractive(key) {\n",
              "          const element = document.querySelector('#df-3719007e-6e46-418f-a52c-2066d94d4a2f');\n",
              "          const dataTable =\n",
              "            await google.colab.kernel.invokeFunction('convertToInteractive',\n",
              "                                                     [key], {});\n",
              "          if (!dataTable) return;\n",
              "\n",
              "          const docLinkHtml = 'Like what you see? Visit the ' +\n",
              "            '<a target=\"_blank\" href=https://colab.research.google.com/notebooks/data_table.ipynb>data table notebook</a>'\n",
              "            + ' to learn more about interactive tables.';\n",
              "          element.innerHTML = '';\n",
              "          dataTable['output_type'] = 'display_data';\n",
              "          await google.colab.output.renderOutput(dataTable, element);\n",
              "          const docLink = document.createElement('div');\n",
              "          docLink.innerHTML = docLinkHtml;\n",
              "          element.appendChild(docLink);\n",
              "        }\n",
              "      </script>\n",
              "    </div>\n",
              "  </div>\n",
              "  "
            ]
          },
          "metadata": {},
          "execution_count": 96
        }
      ],
      "source": [
        "df.head()"
      ]
    },
    {
      "cell_type": "code",
      "execution_count": 97,
      "metadata": {
        "id": "vIH2wmOadq90"
      },
      "outputs": [],
      "source": [
        "df['Text'] = df['Text'].astype(str)"
      ]
    },
    {
      "cell_type": "code",
      "execution_count": 98,
      "metadata": {
        "colab": {
          "base_uri": "https://localhost:8080/"
        },
        "id": "l6uuASJGdq90",
        "outputId": "3e151077-df03-404d-905b-f1c250555d2e"
      },
      "outputs": [
        {
          "output_type": "stream",
          "name": "stdout",
          "text": [
            "3768558\n"
          ]
        }
      ],
      "source": [
        "print(df['Text'].apply(lambda x: len(x.split(' '))).sum())"
      ]
    },
    {
      "cell_type": "markdown",
      "metadata": {
        "id": "cTLXOYnddq91"
      },
      "source": [
        "After text cleaning and removing stop words, we have only 3768558 words."
      ]
    },
    {
      "cell_type": "code",
      "execution_count": 99,
      "metadata": {
        "id": "eSvMWIR3dq92"
      },
      "outputs": [],
      "source": [
        "#save clean data\n",
        "df.to_csv('products_clean.csv', encoding='utf-8')"
      ]
    },
    {
      "cell_type": "markdown",
      "metadata": {
        "id": "bwoMYx46dq92"
      },
      "source": [
        "### Data preparation"
      ]
    },
    {
      "cell_type": "markdown",
      "metadata": {
        "id": "jGq197EYdq93"
      },
      "source": [
        "Now we split the text into training and testing sets. Then we create a **TaggedDocument** object because this is what Doc2Vec wants as input."
      ]
    },
    {
      "cell_type": "code",
      "execution_count": 100,
      "metadata": {
        "id": "FZ-HAorCdq93"
      },
      "outputs": [],
      "source": [
        "train, test = train_test_split(df, test_size=0.3, random_state=42)"
      ]
    },
    {
      "cell_type": "code",
      "execution_count": 58,
      "metadata": {
        "id": "m5vTS03Gdq93"
      },
      "outputs": [],
      "source": [
        "train_tag = train.apply(lambda x: TaggedDocument(words=word_tokenize(x['Text']), tags=[x.Label]), axis=1)\n",
        "\n",
        "test_tag = test.apply(lambda x: TaggedDocument(words=word_tokenize(x['Text']), tags=[x.Label]), axis=1)"
      ]
    },
    {
      "cell_type": "code",
      "execution_count": 59,
      "metadata": {
        "colab": {
          "base_uri": "https://localhost:8080/"
        },
        "id": "31M1kGpxdq94",
        "outputId": "43740174-54ea-4098-9291-b1a05b581c39"
      },
      "outputs": [
        {
          "output_type": "execute_result",
          "data": {
            "text/plain": [
              "TaggedDocument(words=['saf', 'uv', 'textured', 'modern', 'art', 'print', 'framed', 'painting', 'synthetic', 'cm', 'x', 'cm', 'x', 'cm', 'set', 'color', 'multicolor', 'size', 'cm', 'x', 'cm', 'x', 'cm', 'overview', 'beautiful', 'painting', 'involves', 'action', 'skill', 'using', 'paint', 'right', 'manner', 'hence', 'end', 'product', 'picture', 'speak', 'thousand', 'word', 'say', 'art', 'trend', 'quite', 'time', 'give', 'different', 'viewer', 'different', 'meaning', 'style', 'design', 'saf', 'wood', 'matte', 'abstract', 'painting', 'frame', 'quite', 'abstract', 'mysteriously', 'beautiful', 'painting', 'nice', 'frame', 'gift', 'family', 'friend', 'painting', 'various', 'form', 'certain', 'figure', 'seen', 'image', 'add', 'good', 'set', 'light', 'place', 'painting', 'decor', 'give', 'different', 'feel', 'look', 'place', 'quality', 'durability', 'painting', 'matte', 'finish', 'includes', 'good', 'quality', 'frame', 'last', 'long', 'period', 'however', 'include', 'glass', 'along', 'frame', 'specification', 'purchase', 'saf', 'wood', 'matte', 'abstract', 'painting', 'frame', 'amazon', 'customer', 'friendly', 'platform', 'wide', 'range', 'product', 'choose', 'shopping', 'click', 'away'], tags=['Household'])"
            ]
          },
          "metadata": {},
          "execution_count": 59
        }
      ],
      "source": [
        "train_tag[20]"
      ]
    },
    {
      "cell_type": "code",
      "execution_count": 61,
      "metadata": {
        "colab": {
          "base_uri": "https://localhost:8080/"
        },
        "id": "tk8_X-iwdq95",
        "outputId": "6b52a867-1bed-4b8d-afa8-54180c14ffaa"
      },
      "outputs": [
        {
          "output_type": "execute_result",
          "data": {
            "text/plain": [
              "35848    ([kandy, men, regular, fit, blazer, blue, prod...\n",
              "13005    ([healthsense, chef, mate, k, digital, kitchen...\n",
              "22719    ([concept, physic, session, set, volume], [Boo...\n",
              "18453    ([lista, stainless, steel, multi, functional, ...\n",
              "20867         ([gardening, urban, india, update], [Books])\n",
              "                               ...                        \n",
              "36241    ([yellow, chime, flower, band, golden, ring, w...\n",
              "48181    ([oem, inch, rear, view, tft, lcd, color, car,...\n",
              "16408    ([hazel, dustpan, supdi, large, cleaning, prod...\n",
              "31811    ([noise, noihwp, pixel, multifuntional, polyes...\n",
              "19120    ([taparia, plastic, tool, box, organizer, ptb,...\n",
              "Length: 15128, dtype: object"
            ]
          },
          "metadata": {},
          "execution_count": 61
        }
      ],
      "source": [
        "test_tag #[10]"
      ]
    },
    {
      "cell_type": "markdown",
      "metadata": {
        "id": "qI6DPIaVdq96"
      },
      "source": [
        "### Getting the feature vector from doc2vec model\n",
        "\n",
        "In this step we initialize the gensim doc2vec model. Doc2Vec architecture is also similar to word2vec and has two algorithms like word2vec and they are the corresponding algorithms for those two algorithms. One of the them is called Distributed Bag of Words (DBOW) which is similar to “Skip-gram” (SG) model in word2vec except that additional paragraph id vector is added. The second algorithm is “distributed memory” (DM) which is similar to “Continuous bag of words” CBOW in word vector.\n",
        "\n",
        "#### Distributed Bag of Words (DBOW)\n",
        "\n",
        "First, we instantiate a doc2vec model — Distributed Bag of Words (DBOW). We set the following parameters: \n",
        "\n",
        "- dm=0 , distributed bag of words (DBOW) is used;\n",
        "- vector_size = 100, word embeddings will have shape of;\n",
        "- window = 2, model will try to predict every second word;\n",
        "- sample=0 , the threshold for configuring which higher-frequency words are randomly down sampled;\n",
        "- min_count=2, ignores all words with total frequency lower than this.\n"
      ]
    },
    {
      "cell_type": "code",
      "execution_count": 62,
      "metadata": {
        "id": "-_O6oputdq98"
      },
      "outputs": [],
      "source": [
        "doc_model = Doc2Vec(dm=0, vector_size=100, min_count=2, window=2, sample = 0)\n",
        "               \n",
        "doc_model.build_vocab(train_tag)"
      ]
    },
    {
      "cell_type": "code",
      "execution_count": 63,
      "metadata": {
        "colab": {
          "base_uri": "https://localhost:8080/"
        },
        "id": "2uAo23UUdq98",
        "outputId": "3b8b1d14-cc94-475c-83e7-3993399f6ee0"
      },
      "outputs": [
        {
          "output_type": "execute_result",
          "data": {
            "text/plain": [
              "2650410"
            ]
          },
          "metadata": {},
          "execution_count": 63
        }
      ],
      "source": [
        "doc_model.corpus_total_words"
      ]
    },
    {
      "cell_type": "markdown",
      "metadata": {
        "id": "dWokJCkjdq99"
      },
      "source": [
        "Training for 30 epochs: "
      ]
    },
    {
      "cell_type": "code",
      "execution_count": 64,
      "metadata": {
        "colab": {
          "base_uri": "https://localhost:8080/"
        },
        "id": "_W0Trwgbdq99",
        "outputId": "c0b845b3-47b9-43cd-de35-714f7a78c57e"
      },
      "outputs": [
        {
          "output_type": "stream",
          "name": "stdout",
          "text": [
            "CPU times: user 4min 34s, sys: 9.5 s, total: 4min 44s\n",
            "Wall time: 2min 48s\n"
          ]
        }
      ],
      "source": [
        "%time doc_model.train(train_tag, total_examples=doc_model.corpus_count, epochs=30) "
      ]
    },
    {
      "cell_type": "code",
      "execution_count": 65,
      "metadata": {
        "colab": {
          "base_uri": "https://localhost:8080/"
        },
        "id": "gHn05IGFdq9-",
        "outputId": "9cc8a801-edca-4aa6-e2a2-3b2a9c506af4"
      },
      "outputs": [
        {
          "output_type": "stream",
          "name": "stderr",
          "text": [
            "/usr/local/lib/python3.7/dist-packages/ipykernel_launcher.py:1: DeprecationWarning: Call to deprecated `most_similar` (Method will be removed in 4.0.0, use self.wv.most_similar() instead).\n",
            "  \"\"\"Entry point for launching an IPython kernel.\n"
          ]
        },
        {
          "output_type": "execute_result",
          "data": {
            "text/plain": [
              "[('hugging', 0.4502127170562744),\n",
              " ('beany', 0.387437105178833),\n",
              " ('quenched', 0.3801702857017517),\n",
              " ('pasadena', 0.368612676858902),\n",
              " ('bolted', 0.36644747853279114),\n",
              " ('ublox', 0.353843629360199),\n",
              " ('informational', 0.3534359633922577),\n",
              " ('hammering', 0.3485444188117981),\n",
              " ('title', 0.3460332751274109),\n",
              " ('thesis', 0.3458634614944458)]"
            ]
          },
          "metadata": {},
          "execution_count": 65
        }
      ],
      "source": [
        "doc_model.most_similar('blush')"
      ]
    },
    {
      "cell_type": "code",
      "execution_count": 66,
      "metadata": {
        "id": "RoF3p_Qndq9_"
      },
      "outputs": [],
      "source": [
        "#save model\n",
        "doc_model.save('model.doc2vec')"
      ]
    },
    {
      "cell_type": "markdown",
      "metadata": {
        "id": "r3uE93Dodq9_"
      },
      "source": [
        "Building the Final Vector Feature for the Classifier:"
      ]
    },
    {
      "cell_type": "code",
      "execution_count": 67,
      "metadata": {
        "id": "VuBTwWo8dq-A"
      },
      "outputs": [],
      "source": [
        "def vector_for_learning(model, input_docs):\n",
        "    sents = input_docs\n",
        "    targets, feature_vectors = zip(*[(doc.tags[0], model.infer_vector(doc.words, steps=20)) for doc in sents])\n",
        "    return targets, feature_vectors"
      ]
    },
    {
      "cell_type": "code",
      "execution_count": 68,
      "metadata": {
        "id": "GEV-fznhdq-A"
      },
      "outputs": [],
      "source": [
        "y_train, X_train = vector_for_learning(doc_model, train_tag)\n",
        "y_test, X_test = vector_for_learning(doc_model, test_tag)"
      ]
    },
    {
      "cell_type": "markdown",
      "metadata": {
        "id": "HcnOrwHydq-B"
      },
      "source": [
        "### Training the Classifier\n",
        "\n",
        "We choose Logistic Regression Classifier and Linear Support Vector Machine.\n",
        "\n",
        "***Logistic Regression with DBOW***"
      ]
    },
    {
      "cell_type": "code",
      "execution_count": 69,
      "metadata": {
        "colab": {
          "base_uri": "https://localhost:8080/"
        },
        "id": "AdjHHBfvdq-C",
        "outputId": "7dda4e45-83d1-4607-8ea6-81a8fc0ee38a"
      },
      "outputs": [
        {
          "output_type": "stream",
          "name": "stderr",
          "text": [
            "/usr/local/lib/python3.7/dist-packages/sklearn/linear_model/_logistic.py:818: ConvergenceWarning: lbfgs failed to converge (status=1):\n",
            "STOP: TOTAL NO. of ITERATIONS REACHED LIMIT.\n",
            "\n",
            "Increase the number of iterations (max_iter) or scale the data as shown in:\n",
            "    https://scikit-learn.org/stable/modules/preprocessing.html\n",
            "Please also refer to the documentation for alternative solver options:\n",
            "    https://scikit-learn.org/stable/modules/linear_model.html#logistic-regression\n",
            "  extra_warning_msg=_LOGISTIC_SOLVER_CONVERGENCE_MSG,\n"
          ]
        }
      ],
      "source": [
        "log_reg = LogisticRegression(n_jobs=1, C=5)\n",
        "log_reg.fit(X_train, y_train)\n",
        "y_pred = log_reg.predict(X_test)"
      ]
    },
    {
      "cell_type": "markdown",
      "metadata": {
        "id": "4SbYn1rbdq-C"
      },
      "source": [
        "#### Testing the Model"
      ]
    },
    {
      "cell_type": "code",
      "execution_count": 70,
      "metadata": {
        "colab": {
          "base_uri": "https://localhost:8080/"
        },
        "id": "eAXrJl_cdq-D",
        "outputId": "e218516a-c539-4e63-aac5-9ab86adc0d2a"
      },
      "outputs": [
        {
          "output_type": "stream",
          "name": "stdout",
          "text": [
            "Testing accuracy 0.9566367001586462\n",
            "Testing F1 score: 0.9566194462932198\n"
          ]
        }
      ],
      "source": [
        "print('Testing accuracy %s' % accuracy_score(y_pred, y_test))\n",
        "print('Testing F1 score: {}'.format(f1_score(y_test, y_pred, average='weighted')))"
      ]
    },
    {
      "cell_type": "code",
      "execution_count": 71,
      "metadata": {
        "colab": {
          "base_uri": "https://localhost:8080/"
        },
        "id": "xICyP7fRdq-E",
        "outputId": "de59b341-412c-42a7-e72e-e99192467a19"
      },
      "outputs": [
        {
          "output_type": "stream",
          "name": "stdout",
          "text": [
            "                        precision    recall  f1-score   support\n",
            "\n",
            "                 Books       0.95      0.95      0.95      3534\n",
            "Clothing & Accessories       0.98      0.97      0.97      2612\n",
            "           Electronics       0.95      0.94      0.94      3125\n",
            "             Household       0.96      0.96      0.96      5857\n",
            "\n",
            "              accuracy                           0.96     15128\n",
            "             macro avg       0.96      0.96      0.96     15128\n",
            "          weighted avg       0.96      0.96      0.96     15128\n",
            "\n"
          ]
        }
      ],
      "source": [
        "ytest = np.array(y_test)\n",
        "print(classification_report(ytest, y_pred))"
      ]
    },
    {
      "cell_type": "markdown",
      "metadata": {
        "id": "Y5M1maYodq-E"
      },
      "source": [
        "***Linear Support Vector Machine with DBOW***"
      ]
    },
    {
      "cell_type": "code",
      "execution_count": 72,
      "metadata": {
        "colab": {
          "base_uri": "https://localhost:8080/"
        },
        "id": "1HZx0yQRdq-E",
        "outputId": "0ea3d05f-667e-4dab-dbba-7456b9b6cf00"
      },
      "outputs": [
        {
          "output_type": "stream",
          "name": "stderr",
          "text": [
            "/usr/local/lib/python3.7/dist-packages/sklearn/svm/_base.py:1208: ConvergenceWarning: Liblinear failed to converge, increase the number of iterations.\n",
            "  ConvergenceWarning,\n"
          ]
        },
        {
          "output_type": "execute_result",
          "data": {
            "text/plain": [
              "LinearSVC()"
            ]
          },
          "metadata": {},
          "execution_count": 72
        }
      ],
      "source": [
        "svm = LinearSVC()\n",
        "svm.fit(X_train, y_train)"
      ]
    },
    {
      "cell_type": "code",
      "execution_count": 73,
      "metadata": {
        "colab": {
          "base_uri": "https://localhost:8080/"
        },
        "id": "ADGyqLCrdq-F",
        "outputId": "b8a48c53-ecbf-48ce-a02a-2b3a07500b99"
      },
      "outputs": [
        {
          "output_type": "stream",
          "name": "stdout",
          "text": [
            "Testing accuracy 0.9559095716552088\n",
            "Testing F1 score: 0.9558713253654214\n"
          ]
        }
      ],
      "source": [
        "preds = svm.predict(X_test)\n",
        "print('Testing accuracy %s' % accuracy_score(preds, y_test))\n",
        "print('Testing F1 score: {}'.format(f1_score(y_test, preds, average='weighted')))"
      ]
    },
    {
      "cell_type": "code",
      "execution_count": 74,
      "metadata": {
        "colab": {
          "base_uri": "https://localhost:8080/"
        },
        "id": "lKeKe-Hddq-G",
        "outputId": "be0f2f69-3a91-4c84-d193-916b14647592"
      },
      "outputs": [
        {
          "output_type": "stream",
          "name": "stdout",
          "text": [
            "                        precision    recall  f1-score   support\n",
            "\n",
            "                 Books       0.95      0.95      0.95      3534\n",
            "Clothing & Accessories       0.98      0.97      0.98      2612\n",
            "           Electronics       0.95      0.93      0.94      3125\n",
            "             Household       0.95      0.96      0.96      5857\n",
            "\n",
            "              accuracy                           0.96     15128\n",
            "             macro avg       0.96      0.95      0.96     15128\n",
            "          weighted avg       0.96      0.96      0.96     15128\n",
            "\n"
          ]
        }
      ],
      "source": [
        "print(classification_report(ytest, preds))"
      ]
    },
    {
      "cell_type": "markdown",
      "metadata": {
        "id": "6l39VrP9dq-G"
      },
      "source": [
        "#### Distributed Memory (DM)\n",
        "\n",
        "Now, we instantiate a Distributed Memory (DM) with a vector size with 100 words and iterating over the training corpus 30 times.\n",
        "\n",
        "Distributed Memory (DM) works like a memory that remembers what is missing from the current context or as the topic of the paragraph. While the word vectors represent the concept of a word, the document vector intends to represent the concept of a document."
      ]
    },
    {
      "cell_type": "code",
      "execution_count": 75,
      "metadata": {
        "id": "wb_9W30Bdq-H"
      },
      "outputs": [],
      "source": [
        "dm_model = Doc2Vec(dm=1, vector_size=100, min_count=2, window=2, sample = 0, negative=5, alpha=0.025, min_alpha=0.001)\n",
        "dm_model.build_vocab(train_tag)"
      ]
    },
    {
      "cell_type": "code",
      "execution_count": 76,
      "metadata": {
        "colab": {
          "base_uri": "https://localhost:8080/"
        },
        "id": "KLZzXvyldq-H",
        "outputId": "d45cd65a-eb93-41e6-dae1-152a770d9646"
      },
      "outputs": [
        {
          "output_type": "execute_result",
          "data": {
            "text/plain": [
              "2650410"
            ]
          },
          "metadata": {},
          "execution_count": 76
        }
      ],
      "source": [
        "dm_model.corpus_total_words"
      ]
    },
    {
      "cell_type": "code",
      "execution_count": 77,
      "metadata": {
        "colab": {
          "base_uri": "https://localhost:8080/"
        },
        "id": "BsAGRPRWdq-I",
        "outputId": "6fc362b4-6825-435a-a01c-9bdbc80ed04e"
      },
      "outputs": [
        {
          "output_type": "stream",
          "name": "stdout",
          "text": [
            "CPU times: user 6min 19s, sys: 22.4 s, total: 6min 42s\n",
            "Wall time: 4min 28s\n"
          ]
        }
      ],
      "source": [
        "%time dm_model.train(train_tag, total_examples=dm_model.corpus_count, epochs=30) "
      ]
    },
    {
      "cell_type": "code",
      "execution_count": 78,
      "metadata": {
        "id": "BtUe3-IYdq-I"
      },
      "outputs": [],
      "source": [
        "dm_model.save('dm_model.doc2vec')"
      ]
    },
    {
      "cell_type": "markdown",
      "metadata": {
        "id": "GEueJ8ztdq-J"
      },
      "source": [
        "Extract training vectors:"
      ]
    },
    {
      "cell_type": "code",
      "execution_count": 79,
      "metadata": {
        "id": "J1bih6Lqdq-J"
      },
      "outputs": [],
      "source": [
        "y_train_dm, X_train_dm = vector_for_learning(dm_model, train_tag)\n",
        "y_test_dm, X_test_dm = vector_for_learning(dm_model, test_tag)"
      ]
    },
    {
      "cell_type": "markdown",
      "metadata": {
        "id": "ZD3fEtmldq-K"
      },
      "source": [
        "Training and testing Classifiers:\n",
        "\n",
        "***Logistic Regression with DM***"
      ]
    },
    {
      "cell_type": "code",
      "execution_count": 80,
      "metadata": {
        "colab": {
          "base_uri": "https://localhost:8080/"
        },
        "id": "Pr5BsNbLdq-L",
        "outputId": "f18ab35e-b1a1-4de5-95c5-b04ea0dff1a1"
      },
      "outputs": [
        {
          "output_type": "stream",
          "name": "stderr",
          "text": [
            "/usr/local/lib/python3.7/dist-packages/sklearn/linear_model/_logistic.py:818: ConvergenceWarning: lbfgs failed to converge (status=1):\n",
            "STOP: TOTAL NO. of ITERATIONS REACHED LIMIT.\n",
            "\n",
            "Increase the number of iterations (max_iter) or scale the data as shown in:\n",
            "    https://scikit-learn.org/stable/modules/preprocessing.html\n",
            "Please also refer to the documentation for alternative solver options:\n",
            "    https://scikit-learn.org/stable/modules/linear_model.html#logistic-regression\n",
            "  extra_warning_msg=_LOGISTIC_SOLVER_CONVERGENCE_MSG,\n"
          ]
        },
        {
          "output_type": "stream",
          "name": "stdout",
          "text": [
            "Testing accuracy 0.8695795875198308\n",
            "Testing F1 score: 0.8696737601789366\n"
          ]
        }
      ],
      "source": [
        "log_reg = LogisticRegression(n_jobs=1, C=5)\n",
        "log_reg.fit(X_train_dm, y_train_dm)\n",
        "pred = log_reg.predict(X_test_dm)\n",
        "\n",
        "print('Testing accuracy %s' % accuracy_score(y_test_dm, pred))\n",
        "print('Testing F1 score: {}'.format(f1_score(y_test_dm, pred, average='weighted')))"
      ]
    },
    {
      "cell_type": "code",
      "execution_count": 81,
      "metadata": {
        "colab": {
          "base_uri": "https://localhost:8080/"
        },
        "id": "qqQHicnzdq-L",
        "outputId": "6dd92f72-24d1-400f-b2df-b6ce5eb1028f"
      },
      "outputs": [
        {
          "output_type": "stream",
          "name": "stdout",
          "text": [
            "                        precision    recall  f1-score   support\n",
            "\n",
            "                 Books       0.84      0.89      0.86      3534\n",
            "Clothing & Accessories       0.84      0.86      0.85      2612\n",
            "           Electronics       0.87      0.84      0.85      3125\n",
            "             Household       0.90      0.88      0.89      5857\n",
            "\n",
            "              accuracy                           0.87     15128\n",
            "             macro avg       0.86      0.87      0.86     15128\n",
            "          weighted avg       0.87      0.87      0.87     15128\n",
            "\n"
          ]
        }
      ],
      "source": [
        "ytest = np.array(y_test_dm)\n",
        "print(classification_report(ytest, pred))"
      ]
    },
    {
      "cell_type": "markdown",
      "metadata": {
        "id": "WshzXtBddq-M"
      },
      "source": [
        "***Linear Support Vector Machine with DM***"
      ]
    },
    {
      "cell_type": "code",
      "execution_count": 82,
      "metadata": {
        "colab": {
          "base_uri": "https://localhost:8080/"
        },
        "id": "gtS8yPUjdq-M",
        "outputId": "dec40941-d909-4f4b-d444-6e498bb39a38"
      },
      "outputs": [
        {
          "output_type": "stream",
          "name": "stderr",
          "text": [
            "/usr/local/lib/python3.7/dist-packages/sklearn/svm/_base.py:1208: ConvergenceWarning: Liblinear failed to converge, increase the number of iterations.\n",
            "  ConvergenceWarning,\n"
          ]
        }
      ],
      "source": [
        "svm = LinearSVC()\n",
        "svm.fit(X_train_dm, y_train_dm)\n",
        "pred_y = svm.predict(X_test_dm)"
      ]
    },
    {
      "cell_type": "code",
      "execution_count": 83,
      "metadata": {
        "colab": {
          "base_uri": "https://localhost:8080/"
        },
        "id": "lj13yrYEdq-N",
        "outputId": "45843f9b-9482-446c-fde0-d6fd21a3c81c"
      },
      "outputs": [
        {
          "output_type": "stream",
          "name": "stdout",
          "text": [
            "Testing accuracy 0.8720914859862506\n",
            "Testing F1 score: 0.8721579839542756\n"
          ]
        }
      ],
      "source": [
        "print('Testing accuracy %s' % accuracy_score(pred_y, y_test_dm))\n",
        "print('Testing F1 score: {}'.format(f1_score(y_test_dm, pred_y, average='weighted')))"
      ]
    },
    {
      "cell_type": "code",
      "execution_count": 84,
      "metadata": {
        "colab": {
          "base_uri": "https://localhost:8080/"
        },
        "id": "IQ7kADPndq-N",
        "outputId": "702d90a6-e537-464e-d50a-6730a1b8ff49"
      },
      "outputs": [
        {
          "output_type": "stream",
          "name": "stdout",
          "text": [
            "                        precision    recall  f1-score   support\n",
            "\n",
            "                 Books       0.82      0.90      0.86      3534\n",
            "Clothing & Accessories       0.86      0.84      0.85      2612\n",
            "           Electronics       0.89      0.83      0.86      3125\n",
            "             Household       0.90      0.89      0.90      5857\n",
            "\n",
            "              accuracy                           0.87     15128\n",
            "             macro avg       0.87      0.87      0.87     15128\n",
            "          weighted avg       0.87      0.87      0.87     15128\n",
            "\n"
          ]
        }
      ],
      "source": [
        "print(classification_report(ytest, pred_y))"
      ]
    },
    {
      "cell_type": "markdown",
      "metadata": {
        "id": "e1zSOi-bdq-O"
      },
      "source": [
        "From received results we can see the obtained accuracy of DBOW model is better than DM model."
      ]
    },
    {
      "cell_type": "markdown",
      "metadata": {
        "id": "hOcaVbludq-P"
      },
      "source": [
        "### Conclusion"
      ]
    },
    {
      "cell_type": "markdown",
      "metadata": {
        "id": "GH5_Ftwmdq-P"
      },
      "source": [
        "For this project, we used training set to train doc2vec classifier for our E-commerce products description. We have trained doc2vec ( DBOW and DM) model and decided to use Logistic Regression and Linear Support Vector Machine models. We were able to achieve 95% accuracy for SVM and Logistic Regression with DBOW method."
      ]
    },
    {
      "cell_type": "code",
      "execution_count": null,
      "metadata": {
        "id": "kwKBcNl3dq-Q"
      },
      "outputs": [],
      "source": []
    }
  ],
  "metadata": {
    "kernelspec": {
      "display_name": "Python 3",
      "language": "python",
      "name": "python3"
    },
    "language_info": {
      "codemirror_mode": {
        "name": "ipython",
        "version": 3
      },
      "file_extension": ".py",
      "mimetype": "text/x-python",
      "name": "python",
      "nbconvert_exporter": "python",
      "pygments_lexer": "ipython3",
      "version": "3.6.7"
    },
    "colab": {
      "provenance": [],
      "collapsed_sections": []
    }
  },
  "nbformat": 4,
  "nbformat_minor": 0
}